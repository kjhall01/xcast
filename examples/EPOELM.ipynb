{
 "cells": [
  {
   "cell_type": "code",
   "execution_count": 1,
   "id": "a448eaa5",
   "metadata": {},
   "outputs": [],
   "source": [
    "import xcast as xc \n",
    "import xarray as xr \n",
    "import cartopy.crs as ccrs \n",
    "\n",
    "model = xr.open_dataset('data/MODEL_JJA.nc').prec\n",
    "obs = xr.open_dataset('data/OBS_JJA.nc').precip.expand_dims({'M':[0]})"
   ]
  },
  {
   "cell_type": "code",
   "execution_count": 2,
   "id": "b340c7d0",
   "metadata": {},
   "outputs": [],
   "source": [
    "model = xc.regrid(model, obs.longitude, obs.latitude)"
   ]
  },
  {
   "cell_type": "code",
   "execution_count": null,
   "id": "b88643fa",
   "metadata": {},
   "outputs": [
    {
     "name": "stdout",
     "output_type": "stream",
     "text": [
      "window 1\n",
      "window 2\n",
      "window 3\n",
      "window 4\n",
      "window 5\n",
      "window 6\n",
      "window 7\n"
     ]
    }
   ],
   "source": [
    "model = model.sel(longitude=slice(-120, -70), latitude=slice(20,60))\n",
    "obs = obs.sel(longitude=slice(-120, -70), latitude=slice(20,60))\n",
    "\n",
    "drymask = xc.drymask(obs, dry_threshold=30, quantile_threshold=0.3)\n",
    "obs = obs*drymask \n",
    "\n",
    "hindcasts_det, hindcasts_prob = [], []\n",
    "i=1\n",
    "for xtrain, ytrain, xtest, ytest in xc.CrossValidator(model, obs, window=3):\n",
    "    print(\"window {}\".format(i))\n",
    "    i += 1\n",
    "    epoelm = xc.EPOELM()\n",
    "    epoelm.fit(xtrain, ytrain)\n",
    "    probs =  epoelm.predict_proba(xtest)\n",
    "    preds = epoelm.predict(xtest)\n",
    "    hindcasts_det.append(preds.isel(time=1))\n",
    "    hindcasts_prob.append(probs.isel(time=1))\n",
    "hindcasts_det = xr.concat(hindcasts_det, 'time')\n",
    "hindcasts_prob = xr.concat(hindcasts_prob, 'time')\n"
   ]
  },
  {
   "cell_type": "code",
   "execution_count": null,
   "id": "ed025af7",
   "metadata": {},
   "outputs": [],
   "source": [
    "ohc = xc.OneHotEncoder() \n",
    "ohc.fit(obs)\n",
    "T = ohc.transform(obs)\n",
    "clim = xr.ones_like(T) * 0.333"
   ]
  },
  {
   "cell_type": "code",
   "execution_count": null,
   "id": "dfdda766",
   "metadata": {},
   "outputs": [],
   "source": [
    "clim_rps = xc.RankProbabilityScore(clim, T)\n",
    "pred_rps = xc.RankProbabilityScore(hindcasts_prob, T)\n",
    "rpss = 1 - pred_rps / clim_rps "
   ]
  },
  {
   "cell_type": "code",
   "execution_count": null,
   "id": "dbdfec82",
   "metadata": {
    "scrolled": false
   },
   "outputs": [],
   "source": [
    "pl = rpss.plot(subplot_kws={'projection': ccrs.PlateCarree()})\n",
    "c = pl.axes.coastlines()"
   ]
  },
  {
   "cell_type": "code",
   "execution_count": null,
   "id": "bac167ef",
   "metadata": {},
   "outputs": [],
   "source": [
    "pearson = xc.Pearson(hindcasts_det, obs)"
   ]
  },
  {
   "cell_type": "code",
   "execution_count": null,
   "id": "6b43bd99",
   "metadata": {},
   "outputs": [],
   "source": [
    "pl = pearson.plot(subplot_kws={'projection': ccrs.PlateCarree()})\n",
    "c = pl.axes.coastlines()"
   ]
  }
 ],
 "metadata": {
  "kernelspec": {
   "display_name": "xcast_env",
   "language": "python",
   "name": "xcast_env"
  },
  "language_info": {
   "codemirror_mode": {
    "name": "ipython",
    "version": 3
   },
   "file_extension": ".py",
   "mimetype": "text/x-python",
   "name": "python",
   "nbconvert_exporter": "python",
   "pygments_lexer": "ipython3",
   "version": "3.10.10"
  }
 },
 "nbformat": 4,
 "nbformat_minor": 5
}
