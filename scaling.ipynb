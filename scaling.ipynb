{
 "cells": [
  {
   "cell_type": "code",
   "execution_count": 1,
   "id": "a448eaa5",
   "metadata": {},
   "outputs": [],
   "source": [
    "import src as xc \n",
    "import xarray as xr \n",
    "import cartopy.crs as ccrs \n",
    "\n",
    "obs = xr.open_dataset('data/OBS_JJA.nc').precip.expand_dims({'M':[0]})"
   ]
  },
  {
   "cell_type": "code",
   "execution_count": 2,
   "id": "b88643fa",
   "metadata": {},
   "outputs": [
    {
     "name": "stderr",
     "output_type": "stream",
     "text": [
      "/Users/kylehall/opt/anaconda3/envs/xcast_env/lib/python3.10/site-packages/numpy/lib/nanfunctions.py:1878: RuntimeWarning: Degrees of freedom <= 0 for slice.\n",
      "  var = nanvar(a, axis=axis, dtype=dtype, out=out, ddof=ddof,\n"
     ]
    }
   ],
   "source": [
    "normal = xc.Normal() \n",
    "normal.fit(obs)\n",
    "norm_obs = normal.transform(obs) "
   ]
  },
  {
   "cell_type": "code",
   "execution_count": 3,
   "id": "0cefc6d4",
   "metadata": {},
   "outputs": [
    {
     "name": "stdout",
     "output_type": "stream",
     "text": [
      "<xarray.DataArray 'precip' ()>\n",
      "array(241.9159, dtype=float32) <xarray.DataArray 'precip' ()>\n",
      "array(322.1062, dtype=float32)\n"
     ]
    }
   ],
   "source": [
    "print(obs.mean(), obs.std())"
   ]
  },
  {
   "cell_type": "code",
   "execution_count": 4,
   "id": "412c4cbe",
   "metadata": {},
   "outputs": [
    {
     "name": "stdout",
     "output_type": "stream",
     "text": [
      "<xarray.DataArray 'precip' ()>\n",
      "array(-2.807902e-08, dtype=float32) <xarray.DataArray 'precip' ()>\n",
      "array(0.9973587, dtype=float32)\n"
     ]
    }
   ],
   "source": [
    "print(norm_obs.mean(), norm_obs.std())"
   ]
  },
  {
   "cell_type": "code",
   "execution_count": 5,
   "id": "b88acfdf",
   "metadata": {},
   "outputs": [],
   "source": [
    "minmax = xc.MinMax() \n",
    "minmax.fit(obs)\n",
    "minmax_obs = minmax.transform(obs) "
   ]
  },
  {
   "cell_type": "code",
   "execution_count": 7,
   "id": "aef362de",
   "metadata": {},
   "outputs": [
    {
     "name": "stdout",
     "output_type": "stream",
     "text": [
      "<xarray.DataArray 'precip' ()>\n",
      "array(-1., dtype=float32) <xarray.DataArray 'precip' ()>\n",
      "array(1., dtype=float32)\n"
     ]
    }
   ],
   "source": [
    "print(minmax_obs.min(), minmax_obs.max())"
   ]
  },
  {
   "cell_type": "code",
   "execution_count": null,
   "id": "971f6860",
   "metadata": {},
   "outputs": [],
   "source": []
  }
 ],
 "metadata": {
  "kernelspec": {
   "display_name": "xcast_env",
   "language": "python",
   "name": "xcast_env"
  },
  "language_info": {
   "codemirror_mode": {
    "name": "ipython",
    "version": 3
   },
   "file_extension": ".py",
   "mimetype": "text/x-python",
   "name": "python",
   "nbconvert_exporter": "python",
   "pygments_lexer": "ipython3",
   "version": "3.10.10"
  }
 },
 "nbformat": 4,
 "nbformat_minor": 5
}
