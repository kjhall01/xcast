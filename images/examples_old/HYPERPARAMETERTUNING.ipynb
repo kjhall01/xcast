{
 "cells": [
  {
   "cell_type": "code",
   "execution_count": 1,
   "id": "a448eaa5",
   "metadata": {},
   "outputs": [],
   "source": [
    "import xcast as xc \n",
    "import xarray as xr \n",
    "import cartopy.crs as ccrs \n",
    "\n",
    "model = xr.open_dataset('data/MODEL_JJA.nc').prec\n",
    "obs = xr.open_dataset('data/OBS_JJA.nc').precip.expand_dims({'M':[0]})\n",
    "# we switch model and obs to regrid the obs to the model grid, rather than model to obs grid\n",
    "obs, model = xc.match(obs, model) "
   ]
  },
  {
   "cell_type": "code",
   "execution_count": 2,
   "id": "d40a6b93",
   "metadata": {},
   "outputs": [],
   "source": [
    "model = model.sel(longitude=slice(-120, -70), latitude=slice(20,60))\n",
    "obs = obs.sel(longitude=slice(-120, -70), latitude=slice(20,60))\n",
    "\n",
    "drymask = xc.drymask(obs, dry_threshold=30, quantile_threshold=0.3)\n",
    "obs = obs*drymask \n",
    "model = model * drymask"
   ]
  },
  {
   "cell_type": "code",
   "execution_count": null,
   "id": "79e2a254",
   "metadata": {
    "scrolled": true
   },
   "outputs": [],
   "source": [
    "gene_set = {\n",
    "    'regularization': [i for i in range(-20, 20) ],\n",
    "    'hidden_layer_size': [i for i in range(3, 16)],#, 80, 160, 320, 640],\n",
    "    'activation': ['relu', 'sigm', 'tanh', 'lin', 'leaky', 'elu', 'softplus'],\n",
    "    'preprocessing': ['minmax', 'std', 'none' ],\n",
    "    'encoding': [  'nonexceedance', 'binary'],\n",
    "    'quantiles': [ [1/3,2/3], [0.0001, 0.5, 0.9999], [0.2, 0.4, 0.6, 0.8], [0.1,0.2,0.3,0.4,0.5,0.6,0.7,0.8,0.9] ],\n",
    "    'standardize_y': [True, False],\n",
    "    'n_estimators': [5],\n",
    "    'initialization': ['uniform', 'normal', 'xavier']\n",
    "}\n",
    "\n",
    "reg = xc.EPOELM()\n",
    "params = reg.tune(model, obs, queue_len=4, generation_size=2, **gene_set)\n"
   ]
  },
  {
   "cell_type": "code",
   "execution_count": null,
   "id": "759b1ebe",
   "metadata": {},
   "outputs": [],
   "source": [
    "params.goodness.plot(vmin=-1)"
   ]
  },
  {
   "cell_type": "code",
   "execution_count": null,
   "id": "8d92925f",
   "metadata": {},
   "outputs": [],
   "source": [
    "xc.save_parameters(params.params, dest='test.params')"
   ]
  },
  {
   "cell_type": "code",
   "execution_count": null,
   "id": "38acf979",
   "metadata": {},
   "outputs": [],
   "source": [
    "params2 = xc.load_parameters('test.params')"
   ]
  },
  {
   "cell_type": "code",
   "execution_count": null,
   "id": "26031285",
   "metadata": {},
   "outputs": [],
   "source": [
    "hindcasts_det, hindcasts_prob = [], []\n",
    "i=1\n",
    "for xtrain, ytrain, xtest, ytest in xc.CrossValidator(model, obs, window=3):\n",
    "    print(\"window {}\".format(i))\n",
    "    i += 1\n",
    "    epoelm = xc.EPOELM(params=params2)\n",
    "    epoelm.fit(xtrain, ytrain)\n",
    "    probs =  epoelm.predict_proba(xtest)\n",
    "    preds = epoelm.predict(xtest)\n",
    "    hindcasts_det.append(preds.isel(time=1))\n",
    "    hindcasts_prob.append(probs.isel(time=1))\n",
    "hindcasts_det = xr.concat(hindcasts_det, 'time')\n",
    "hindcasts_prob = xr.concat(hindcasts_prob, 'time')\n"
   ]
  },
  {
   "cell_type": "code",
   "execution_count": null,
   "id": "ed025af7",
   "metadata": {},
   "outputs": [],
   "source": [
    "ohc = xc.OneHotEncoder() \n",
    "ohc.fit(obs)\n",
    "T = ohc.transform(obs)\n",
    "clim = xr.ones_like(T) * 0.333"
   ]
  },
  {
   "cell_type": "code",
   "execution_count": null,
   "id": "dfdda766",
   "metadata": {},
   "outputs": [],
   "source": [
    "clim_rps = xc.RankProbabilityScore(clim, T)\n",
    "pred_rps = xc.RankProbabilityScore(hindcasts_prob, T)\n",
    "rpss = 1 - pred_rps / clim_rps "
   ]
  },
  {
   "cell_type": "code",
   "execution_count": null,
   "id": "dbdfec82",
   "metadata": {
    "scrolled": false
   },
   "outputs": [],
   "source": [
    "pl = rpss.plot(subplot_kws={'projection': ccrs.PlateCarree()})\n",
    "c = pl.axes.coastlines()"
   ]
  },
  {
   "cell_type": "code",
   "execution_count": null,
   "id": "bac167ef",
   "metadata": {},
   "outputs": [],
   "source": [
    "pearson = xc.Pearson(hindcasts_det, obs)"
   ]
  },
  {
   "cell_type": "code",
   "execution_count": null,
   "id": "6b43bd99",
   "metadata": {},
   "outputs": [],
   "source": [
    "pl = pearson.plot(subplot_kws={'projection': ccrs.PlateCarree()})\n",
    "c = pl.axes.coastlines()"
   ]
  },
  {
   "cell_type": "code",
   "execution_count": null,
   "id": "07a97b3b",
   "metadata": {},
   "outputs": [],
   "source": []
  }
 ],
 "metadata": {
  "kernelspec": {
   "display_name": "xcast_env",
   "language": "python",
   "name": "xcast_env"
  },
  "language_info": {
   "codemirror_mode": {
    "name": "ipython",
    "version": 3
   },
   "file_extension": ".py",
   "mimetype": "text/x-python",
   "name": "python",
   "nbconvert_exporter": "python",
   "pygments_lexer": "ipython3",
   "version": "3.10.10"
  }
 },
 "nbformat": 4,
 "nbformat_minor": 5
}
